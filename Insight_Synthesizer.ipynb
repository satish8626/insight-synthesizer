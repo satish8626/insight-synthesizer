{
 "cells": [
  {
   "cell_type": "code",
   "execution_count": 4,
   "id": "493763d0-e248-46b5-8e30-56c1aee116f3",
   "metadata": {},
   "outputs": [
    {
     "name": "stdout",
     "output_type": "stream",
     "text": [
      "🔐 Paste your OpenAI API key (hidden input):\n"
     ]
    },
    {
     "name": "stdin",
     "output_type": "stream",
     "text": [
      " ········\n"
     ]
    },
    {
     "name": "stdout",
     "output_type": "stream",
     "text": [
      "⚠️ Error: Error code: 429 - {'error': {'message': 'You exceeded your current quota, please check your plan and billing details. For more information on this error, read the docs: https://platform.openai.com/docs/guides/error-codes/api-errors.', 'type': 'insufficient_quota', 'param': None, 'code': 'insufficient_quota'}}\n"
     ]
    },
    {
     "data": {
      "text/markdown": [
       "❌ No results generated"
      ],
      "text/plain": [
       "<IPython.core.display.Markdown object>"
      ]
     },
     "metadata": {},
     "output_type": "display_data"
    }
   ],
   "source": [
    "# Install required packages if not installed in your local machine.\n",
    "#Install this Missing dependency or esle\n",
    "#!pip install python-dotenv openai pandas\n",
    "\n",
    "# 1. Configuration\n",
    "import os\n",
    "from dotenv import load_dotenv\n",
    "from getpass import getpass\n",
    "import json\n",
    "from openai import OpenAI\n",
    "from IPython.display import display, Markdown\n",
    "import pandas as pd\n",
    "\n",
    "def get_api_key():\n",
    "    \"\"\"Safely load API key from .env or user input\"\"\"\n",
    "    load_dotenv()\n",
    "    api_key = os.getenv(\"OPENAI_API_KEY\")\n",
    "    if not api_key:\n",
    "        print(\"🔐 Paste your OpenAI API key (hidden input):\")\n",
    "        api_key = getpass(\"\").strip()\n",
    "        if not api_key.startswith(\"sk-\"):\n",
    "            raise ValueError(\"Invalid API key format - must start with 'sk-'\")\n",
    "        with open('.env', 'w') as f:\n",
    "            f.write(f\"OPENAI_API_KEY={api_key}\\n\")\n",
    "    return api_key\n",
    "\n",
    "# 2. Class Definition\n",
    "class InsightSynthesizer:\n",
    "    def __init__(self, model=\"gpt-3.5-turbo\"):\n",
    "        self.client = OpenAI(api_key=get_api_key())\n",
    "        self.model = model\n",
    "        self.prompt_template = \"\"\"Analyze these survey responses:\n",
    "        {responses}\n",
    "        \n",
    "        Return JSON with structure:\n",
    "        {{\n",
    "          \"themes\": [\n",
    "            {{\n",
    "              \"theme\": \"3-5 word summary\",\n",
    "              \"quotes\": [\"representative quote\"],\n",
    "              \"sentiment\": \"positive/neutral/negative\"\n",
    "            }}\n",
    "          ]\n",
    "        }}\"\"\"\n",
    "    \n",
    "    def generate_insights(self, responses):\n",
    "        try:\n",
    "            processed = \"\\n\".join(f\"- {r}\" for r in responses)\n",
    "            response = self.client.chat.completions.create(\n",
    "                model=self.model,\n",
    "                messages=[\n",
    "                    {\"role\": \"system\", \"content\": \"You are a helpful research assistant that outputs valid JSON.\"},\n",
    "                    {\"role\": \"user\", \"content\": self.prompt_template.format(responses=processed)}\n",
    "                ],\n",
    "                temperature=0.3,\n",
    "                response_format={\"type\": \"json_object\"}\n",
    "            )\n",
    "            return json.loads(response.choices[0].message.content)[\"themes\"]\n",
    "        except Exception as e:\n",
    "            print(f\"⚠️ Error: {e}\")\n",
    "            return []\n",
    "\n",
    "# 3. Analysis\n",
    "if __name__ == \"__main__\":\n",
    "    # Remove old .env if exists\n",
    "    if os.path.exists('.env'):\n",
    "        os.remove('.env')\n",
    "    \n",
    "    analyzer = InsightSynthesizer()\n",
    "    \n",
    "    responses = [\n",
    "        \"The mobile app crashes frequently\",\n",
    "        \"Customer support was very helpful\",\n",
    "        \"Would love more customization options\",\n",
    "        \"Too expensive for the current features\"\n",
    "    ]\n",
    "    \n",
    "    results = analyzer.generate_insights(responses)\n",
    "    \n",
    "    if results:\n",
    "        display(Markdown(\"### 📊 Insights\"))\n",
    "        df = pd.DataFrame(results)\n",
    "        display(df)\n",
    "        \n",
    "        with open('insights.json', 'w') as f:\n",
    "            json.dump(results, f, indent=2)\n",
    "        display(Markdown(\"✅ Saved to `insights.json`\"))\n",
    "        \n",
    "        display(Markdown(\"### 💬 Key Quotes\"))\n",
    "        for i, theme in enumerate(results, 1):\n",
    "            display(Markdown(f\"{i}. **{theme['theme']}** ({theme['sentiment']})\"))\n",
    "            for q in theme['quotes']:\n",
    "                display(Markdown(f\"   - \\\"{q}\\\"\"))\n",
    "    else:\n",
    "        display(Markdown(\"❌ No results generated\"))"
   ]
  },
  {
   "cell_type": "code",
   "execution_count": null,
   "id": "2cec3b74-62ab-4354-a88e-5cad7cfcdfdd",
   "metadata": {},
   "outputs": [],
   "source": []
  }
 ],
 "metadata": {
  "kernelspec": {
   "display_name": "Python 3 (ipykernel)",
   "language": "python",
   "name": "python3"
  },
  "language_info": {
   "codemirror_mode": {
    "name": "ipython",
    "version": 3
   },
   "file_extension": ".py",
   "mimetype": "text/x-python",
   "name": "python",
   "nbconvert_exporter": "python",
   "pygments_lexer": "ipython3",
   "version": "3.13.2"
  }
 },
 "nbformat": 4,
 "nbformat_minor": 5
}
